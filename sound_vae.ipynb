{
 "cells": [
  {
   "cell_type": "code",
   "execution_count": 54,
   "metadata": {},
   "outputs": [
    {
     "name": "stdout",
     "output_type": "stream",
     "text": [
      "(201, 6)\n",
      "(201, 6)\n",
      "(201, 6)\n",
      "(201, 6)\n",
      "(201, 6)\n",
      "(201, 6)\n",
      "(201, 6)\n",
      "(201, 6)\n",
      "(201, 6)\n",
      "(201, 6)\n",
      "(201, 6)0\n",
      "(201, 6)0\n",
      "(201, 6)0\n",
      "(201, 6)0\n",
      "(201, 6)0\n",
      "(201, 6)0\n",
      "(201, 6)0\n",
      "(201, 6)0\n",
      "(201, 6)0\n",
      "(201, 6)0\n",
      "(201, 6)0\n",
      "(201, 6)0\n",
      "(201, 6)0\n",
      "(201, 6)0\n",
      "(201, 6)0\n",
      "(201, 6)0\n",
      "(201, 6)0\n",
      "(201, 6)0\n",
      "(201, 6)0\n",
      "(201, 6)0\n"
     ]
    }
   ],
   "source": [
    "import soundcard as sc\n",
    "import soundfile as sf\n",
    "import cv2\n",
    "import numpy as np\n",
    "\n",
    "import torch\n",
    "import torchaudio\n",
    "\n",
    "from matplotlib import pyplot as plt\n",
    "\n",
    "SAMPLE_RATE = 48000 # [Hz]. sampling rate.\n",
    "\n",
    "duration = 200  # Duration of the audio stream in seconds\n",
    "window_size = 1024  # Size of the FFT window\n",
    "overlap = 512  # Number of samples to overlap between consecutive windows\n",
    "\n",
    "with sc.get_microphone(id=str(sc.default_speaker().name), include_loopback=True).recorder(samplerate=SAMPLE_RATE) as mic:\n",
    "    for i in range(duration):\n",
    "        data = mic.record(numframes=window_size)\n",
    "        data = torch.from_numpy(data).permute(1, 0)\n",
    "\n",
    "        print(f\"{i} of {duration}\", end=\"\\r\")\n",
    "\n",
    "        audio_spectogram = torchaudio.transforms.Spectrogram()(data)\n",
    "        audio_spectogram = audio_spectogram.log2()[0,:,:].numpy()\n",
    "        audio_spectogram -= audio_spectogram.min()\n",
    "        audio_spectogram /= audio_spectogram.max()\n",
    "\n",
    "        print(audio_spectogram.shape)\n",
    "\n",
    "        cv2.imshow('stream', audio_spectogram)\n",
    "\n",
    "        k = cv2.waitKey(33)\n",
    "        if k==27:    # Esc key to stop\n",
    "            cv2.destroyAllWindows()\n",
    "            break\n",
    "        \n",
    "        # # closing all open windows\n",
    "    cv2.destroyAllWindows()"
   ]
  },
  {
   "cell_type": "code",
   "execution_count": null,
   "metadata": {},
   "outputs": [],
   "source": []
  }
 ],
 "metadata": {
  "kernelspec": {
   "display_name": "sound_vae",
   "language": "python",
   "name": "python3"
  },
  "language_info": {
   "codemirror_mode": {
    "name": "ipython",
    "version": 3
   },
   "file_extension": ".py",
   "mimetype": "text/x-python",
   "name": "python",
   "nbconvert_exporter": "python",
   "pygments_lexer": "ipython3",
   "version": "3.9.13"
  },
  "orig_nbformat": 4
 },
 "nbformat": 4,
 "nbformat_minor": 2
}
