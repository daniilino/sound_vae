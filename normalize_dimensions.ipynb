{
 "cells": [
  {
   "cell_type": "code",
   "execution_count": 1,
   "metadata": {},
   "outputs": [],
   "source": [
    "import torch\n",
    "import torchaudio\n",
    "import torchaudio.transforms as TAT\n",
    "\n",
    "import os"
   ]
  },
  {
   "cell_type": "code",
   "execution_count": 2,
   "metadata": {},
   "outputs": [],
   "source": [
    "z_dim = 4\n",
    "music_folder = r\"C:\\Users\\dan\\Desktop\\sound_vae\\data\\techno_music\"\n",
    "\n",
    "wavs = []\n",
    "rats = []\n",
    "\n",
    "for path in os.listdir(music_folder):\n",
    "    audio_file = os.path.join(music_folder, path)\n",
    "    if os.path.isfile(audio_file):\n",
    "        wav, rate = torchaudio.load(audio_file)\n",
    "        wavs.append(wav)\n",
    "        rats.append(rate)"
   ]
  },
  {
   "cell_type": "code",
   "execution_count": 4,
   "metadata": {},
   "outputs": [],
   "source": [
    "means = []\n",
    "std1s = []\n",
    "\n",
    "for wav, rate in zip(wavs, rats):\n",
    "    processor_fft = TAT.MelSpectrogram(\n",
    "                            sample_rate=rate,\n",
    "                            n_mels=z_dim,\n",
    "                            ).to(\"cuda\").double()\n",
    "\n",
    "    mel = processor_fft(wav.to(\"cuda\"))\n",
    "    mean = mel.mean(dim=(0,2), keepdim=True)\n",
    "    std1 = mel.var(dim=(0,2), keepdim=True).sqrt()\n",
    "\n",
    "    means.append(mean)\n",
    "    std1s.append(std1)"
   ]
  },
  {
   "cell_type": "code",
   "execution_count": 5,
   "metadata": {},
   "outputs": [
    {
     "name": "stdout",
     "output_type": "stream",
     "text": [
      "torch.Size([1, 4, 1])\n",
      "torch.Size([4])\n",
      "torch.Size([1, 4, 1])\n",
      "torch.Size([4])\n",
      "------------\n",
      "mean:  [452.15845655661803, 70.35665321114695, 42.851305103906, 22.160291749979983]\n",
      "std1:  [510.373306840422, 135.12631741685448, 102.5477751543778, 63.582527648859525]\n"
     ]
    }
   ],
   "source": [
    "print(means[0].shape)\n",
    "means_t = torch.cat(means, 0).mean(0).squeeze()\n",
    "print(means_t.shape)\n",
    "print(std1s[0].shape)\n",
    "std1s_t = torch.cat(std1s, 0).mean(0).squeeze()\n",
    "print(std1s_t.shape)\n",
    "print(\"------------\")\n",
    "print(\"mean: \", means_t.cpu().numpy().tolist() )\n",
    "print(\"std1: \", std1s_t.cpu().numpy().tolist() )"
   ]
  },
  {
   "cell_type": "code",
   "execution_count": null,
   "metadata": {},
   "outputs": [],
   "source": []
  },
  {
   "cell_type": "code",
   "execution_count": null,
   "metadata": {},
   "outputs": [],
   "source": [
    "print(mel.shape)\n",
    "mean = mel.mean(dim=(0,2), keepdim=True)\n",
    "std3 = mel.var(dim=(0,2), keepdim=True).sqrt()*3\n",
    "print(\"mean\", mean)\n",
    "print(\"min\", mel.amin(dim=2))\n",
    "print(\"max\", mel.amax(dim=2))\n",
    "print(\"std3\", std3)\n",
    "\n",
    "normalized = mel - mean\n",
    "normalized /= std3\n",
    "\n",
    "print(\"mean\", normalized.mean(dim=(0,2), keepdim=True))\n",
    "print(\"min\", normalized.amin(dim=2))\n",
    "print(\"max\", normalized.amax(dim=2))\n",
    "print(\"std3\", normalized.var(dim=(0,2), keepdim=True).sqrt()*3)\n"
   ]
  },
  {
   "cell_type": "code",
   "execution_count": null,
   "metadata": {},
   "outputs": [],
   "source": []
  }
 ],
 "metadata": {
  "kernelspec": {
   "display_name": "sound_vae",
   "language": "python",
   "name": "python3"
  },
  "language_info": {
   "codemirror_mode": {
    "name": "ipython",
    "version": 3
   },
   "file_extension": ".py",
   "mimetype": "text/x-python",
   "name": "python",
   "nbconvert_exporter": "python",
   "pygments_lexer": "ipython3",
   "version": "3.10.9"
  },
  "orig_nbformat": 4
 },
 "nbformat": 4,
 "nbformat_minor": 2
}
