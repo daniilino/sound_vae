{
 "cells": [
  {
   "cell_type": "code",
   "execution_count": 2,
   "metadata": {},
   "outputs": [],
   "source": [
    "import matplotlib.pyplot as plt\n",
    "import numpy as np\n",
    "import cv2\n",
    "from IPython.core.pylabtools import figsize\n",
    "import os\n",
    "\n",
    "import random\n",
    "\n",
    "from math import pi\n",
    "import time\n",
    "\n",
    "import torch\n",
    "import torchvision\n",
    "from torchvision import datasets\n",
    "import torchvision.transforms as T\n",
    "import albumentations as A\n",
    "\n",
    "\n",
    "from utils.augmentation_utils import *\n",
    "from utils.FloatToChange import FloatToChange\n",
    "\n",
    "%matplotlib inline\n",
    "%load_ext autoreload\n",
    "%autoreload 2"
   ]
  },
  {
   "cell_type": "code",
   "execution_count": null,
   "metadata": {},
   "outputs": [],
   "source": [
    "# crop_transperent_fields(logo_dir) "
   ]
  },
  {
   "cell_type": "code",
   "execution_count": 4,
   "metadata": {},
   "outputs": [],
   "source": [
    "WIDTH = 100\n",
    "HEIGHT = 100\n",
    "FPS = 25"
   ]
  },
  {
   "cell_type": "code",
   "execution_count": 17,
   "metadata": {},
   "outputs": [],
   "source": [
    "# random text generator\n",
    "\n",
    "h, w = 64, 128\n",
    "output_path = r\"data_synthetic\\9_spray_only\"\n",
    "\n",
    "text_source = r\"data_synthetic\\sample_text.txt\"\n",
    "font_source = r\"data\\fonts\"\n",
    "\n",
    "for _ in range(10000):\n",
    "\n",
    "    img = draw_text(h, w, font_source, text_source, convert_RGB=False)\n",
    "    image_writer(output_path, img, \"0\")"
   ]
  },
  {
   "cell_type": "code",
   "execution_count": null,
   "metadata": {},
   "outputs": [],
   "source": []
  },
  {
   "cell_type": "code",
   "execution_count": null,
   "metadata": {},
   "outputs": [],
   "source": []
  },
  {
   "cell_type": "code",
   "execution_count": null,
   "metadata": {},
   "outputs": [],
   "source": [
    "\n",
    "bg_transforms_vid = A.Compose([\n",
    "                                A.Blur(blur_limit=(3,FloatToChange(5) + 3),p=FloatToChange(0.77)),\n",
    "                                A.ColorJitter(brightness=[-FloatToChange(0.3) + 1, FloatToChange(0.3) + 1], contrast=[- FloatToChange(0.3)+1,FloatToChange(0.3)+1], saturation=[-FloatToChange(0.1)+1,FloatToChange(0.1)+1], hue=[-FloatToChange(0.07),FloatToChange(0.07)], always_apply=False, p=FloatToChange(1)),\n",
    "                                A.ISONoise(color_shift=(0, FloatToChange(0.3)), intensity=(0, FloatToChange(0.3)), p=FloatToChange(1)),\n",
    "                                A.Sharpen (alpha=(0, FloatToChange(1)), lightness=(-FloatToChange(1)+1,FloatToChange(1)+1), p=FloatToChange(1)),\n",
    "                            ])\n",
    "\n",
    "bg_transforms_pic = A.Compose(np.hstack((list(bg_transforms_vid),[ #way to avoid nested Compose objects inside another Compose\n",
    "                                A.Rotate(limit=2,crop_border=True,p=1),\n",
    "                                A.RandomResizedCrop(height=HEIGHT, width=WIDTH,scale=(-FloatToChange(0.05)+1, 1),ratio=[1,1]),\n",
    "                            ])))\n",
    "\n",
    "final_transforms = A.Compose([\n",
    "                                A.Blur(blur_limit=(3,FloatToChange(11) + 3),p=FloatToChange(0.77)),\n",
    "                                A.Downscale(scale_min= -FloatToChange(0.77)+.999,scale_max=.999, interpolation=cv2.INTER_NEAREST, always_apply=True, p=FloatToChange(1)),\n",
    "                                A.ColorJitter(brightness=[-FloatToChange(0.4) + 1, FloatToChange(0.4) + 1], contrast=[- FloatToChange(0.4)+1,FloatToChange(0.4)+1], saturation=[-FloatToChange(0.9)+1,FloatToChange(0.9)+1], hue=[-FloatToChange(0.5),FloatToChange(0.5)], always_apply=False, p=FloatToChange(1)),\n",
    "                                A.ISONoise(color_shift=(0, FloatToChange(0.3)), intensity=(0, FloatToChange(0.3)), p=FloatToChange(1)),\n",
    "                                A.ImageCompression(quality_lower=-FloatToChange(100)+100, quality_upper=100, always_apply=False, p=FloatToChange(1)),\n",
    "                                A.PixelDropout (dropout_prob=FloatToChange(0.33), per_channel=True, drop_value=0, mask_drop_value=None, always_apply=False, p=FloatToChange(0.33)),\n",
    "                                A.RingingOvershoot (blur_limit=(7, (FloatToChange(3) + 7).as_int()), cutoff=(-FloatToChange(0.125)*pi + 3/8*pi, FloatToChange(0.125)*pi + 3/8*pi), p=FloatToChange(1)),\n",
    "                                A.Sharpen (alpha=(0, FloatToChange(1)), lightness=(-FloatToChange(1)+1,FloatToChange(1)+1), p=FloatToChange(1)),\n",
    "                                A.UnsharpMask (blur_limit=(3, (FloatToChange(11) + 3).as_int()), sigma_limit=(0, FloatToChange(11)), alpha=(0, FloatToChange(1)), always_apply=False, p=FloatToChange(0.8)),\n",
    "                            ])\n",
    "\n",
    "bg_transforms_vid = AugTransform(bg_transforms_vid, FloatToChange)\n",
    "bg_transforms_pic = AugTransform(bg_transforms_pic, FloatToChange)\n",
    "final_transforms = AugTransform(final_transforms, FloatToChange)"
   ]
  },
  {
   "cell_type": "code",
   "execution_count": null,
   "metadata": {},
   "outputs": [],
   "source": [
    "# for single logo image augmentator\n",
    "\n",
    "images_dir = r'data\\real_data\\auto_labeled_data\\0'\n",
    "logo_dir   = r'data\\194_logo_icons\\png\\3m'\n",
    "synthetic_dir = r'data\\194_logo_icons\\png'\n",
    "\n",
    "\n",
    "img_generator = LogoImageGenerator(images_dir, logo_dir, synthetic_dir, WIDTH, HEIGHT, \n",
    "                                logo_name=\"3m\", bg_transform=bg_transforms_pic, \n",
    "                                final_transforms=final_transforms, dr_graphical=0.7, \n",
    "                                dr_geometrical=1, logo_base_scale=0.8, print_state=False)\n",
    "img_generator(200, with_logo=True)"
   ]
  },
  {
   "cell_type": "code",
   "execution_count": null,
   "metadata": {},
   "outputs": [],
   "source": [
    "# for bunch of logos logo image augmentator\n",
    "\n",
    "# images_dir = r'C:\\Users\\dan\\Desktop\\style_transfer\\datasets\\rampage_dataset\\0'\n",
    "images_dir = r'C:\\Users\\dan\\Desktop\\vcr_logo_detector\\data_synthetic\\synthetic_text\\for_simclr'\n",
    "logo_dir   = r'data\\194_logo_icons\\png'\n",
    "output_dir = r'data\\194_logo_icons'\n",
    "\n",
    "filenames = next(os.walk(logo_dir), (None, None, []))[2]  # files only\n",
    "\n",
    "for file_name in filenames:\n",
    "    new_folder = \".\".join(file_name.split(\".\")[:-1])\n",
    "    logo_path = os.path.join(logo_dir, file_name)\n",
    "    img_generator = LogoImageGenerator(images_dir, logo_path, output_dir, WIDTH, HEIGHT, \n",
    "                                    logo_name=new_folder, bg_transform=bg_transforms_pic, \n",
    "                                    final_transforms=final_transforms, dr_graphical=0.5, \n",
    "                                    dr_geometrical=0.8, logo_base_scale=0.8, print_state=False,\n",
    "                                    create_subfolder=False)\n",
    "    img_generator(1000, with_logo=True)"
   ]
  },
  {
   "cell_type": "code",
   "execution_count": null,
   "metadata": {},
   "outputs": [],
   "source": []
  },
  {
   "cell_type": "code",
   "execution_count": null,
   "metadata": {},
   "outputs": [],
   "source": [
    "synthetic_video_dir = r'synthetic_video_dataset'\n",
    "\n",
    "generator = LogoSequenceGenerator(images_dir, logo_dir, synthetic_video_dir, bg_transforms=bg_transforms_vid, final_transforms=final_transforms)\n",
    "generator(3)"
   ]
  },
  {
   "cell_type": "code",
   "execution_count": null,
   "metadata": {},
   "outputs": [],
   "source": []
  },
  {
   "cell_type": "code",
   "execution_count": null,
   "metadata": {},
   "outputs": [],
   "source": [
    "# sample from big text images \n",
    "img_folder = r\"data_synthetic\\synthetic_text\\xx\"\n",
    "random_crop = A.RandomResizedCrop (100, 100, scale=(0.1, 0.4), p=1.0)\n",
    "for _ in range(20000):\n",
    "    img_path = sample_random_file(img_folder)\n",
    "    image = cv2.imread(img_path)\n",
    "    image = random_crop(image=image)['image']\n",
    "    image = cv2.cvtColor(image, cv2.COLOR_BGR2RGB)\n",
    "    image_writer(output_path, image, \"xx_crop\")\n"
   ]
  },
  {
   "cell_type": "code",
   "execution_count": null,
   "metadata": {},
   "outputs": [],
   "source": [
    "# replace the very CNN letters\n",
    "img_folder = r\"C:\\Users\\Admin\\Desktop\\vcr_research\\vcr_logo_detector\\data\\real_data\\auto_labeled_data\\1\"\n",
    "output_path = r\"C:\\Users\\Admin\\Desktop\\vcr_research\\vcr_logo_detector\\data\"\n",
    "\n",
    "for _ in range(9500):\n",
    "    img_path = sample_random_file(img_folder)\n",
    "    image = cv2.imread(img_path)\n",
    "    if image.shape[0] < 100: continue\n",
    "    image[42:76, 22:78, :] = image[42, 22, :]\n",
    "\n",
    "    image = cv2.cvtColor(image, cv2.COLOR_BGR2RGB)\n",
    "    image_writer(output_path, image, \"patches_0_attack_minus_cnn\")"
   ]
  },
  {
   "cell_type": "code",
   "execution_count": null,
   "metadata": {},
   "outputs": [],
   "source": []
  },
  {
   "cell_type": "code",
   "execution_count": null,
   "metadata": {},
   "outputs": [],
   "source": []
  }
 ],
 "metadata": {
  "kernelspec": {
   "display_name": "vcr_logo",
   "language": "python",
   "name": "python3"
  },
  "language_info": {
   "codemirror_mode": {
    "name": "ipython",
    "version": 3
   },
   "file_extension": ".py",
   "mimetype": "text/x-python",
   "name": "python",
   "nbconvert_exporter": "python",
   "pygments_lexer": "ipython3",
   "version": "3.10.9"
  },
  "orig_nbformat": 4,
  "vscode": {
   "interpreter": {
    "hash": "5954bca605a7fce20f0c542cc480cf3c6b24dd7d5082b85e11220c899fc68d02"
   }
  }
 },
 "nbformat": 4,
 "nbformat_minor": 2
}
