{
 "cells": [
  {
   "cell_type": "code",
   "execution_count": 1,
   "metadata": {},
   "outputs": [],
   "source": [
    "import matplotlib.pyplot as plt\n",
    "import numpy as np\n",
    "import cv2\n",
    "from IPython.core.pylabtools import figsize\n",
    "import os\n",
    "\n",
    "import random\n",
    "from pathlib import Path\n",
    "\n",
    "from math import pi\n",
    "import time\n",
    "\n",
    "import torch\n",
    "import torchvision\n",
    "from torchvision import datasets\n",
    "import torchvision.transforms as T\n",
    "import albumentations as A\n",
    "\n",
    "\n",
    "from utils.augmentation_utils import *\n",
    "from utils.FloatToChange import FloatToChange\n",
    "\n",
    "%matplotlib inline\n",
    "%load_ext autoreload\n",
    "%autoreload 2"
   ]
  },
  {
   "cell_type": "code",
   "execution_count": 20,
   "metadata": {},
   "outputs": [],
   "source": [
    "WIDTH = 100\n",
    "HEIGHT = 100\n",
    "FPS = 25"
   ]
  },
  {
   "cell_type": "code",
   "execution_count": 4,
   "metadata": {},
   "outputs": [
    {
     "name": "stdout",
     "output_type": "stream",
     "text": [
      "/home/dmitry/Documents/sound_vae\n"
     ]
    }
   ],
   "source": [
    "# random text generator\n",
    "\n",
    "import os\n",
    "print(os.getcwd())\n",
    "\n",
    "h, w = 128, 256\n",
    "output_path = \"data/prepared\"\n",
    "\n",
    "text_source = \"data/sample_text.txt\"\n",
    "font_source = \"data/fonts\"\n",
    "\n",
    "for _ in range(10000):\n",
    "    img = draw_text(h, w, font_source, text_source, convert_RGB=False)\n",
    "    image_writer(output_path, img, \"0\")"
   ]
  },
  {
   "cell_type": "code",
   "execution_count": null,
   "metadata": {},
   "outputs": [],
   "source": []
  },
  {
   "cell_type": "code",
   "execution_count": null,
   "metadata": {},
   "outputs": [],
   "source": []
  }
 ],
 "metadata": {
  "kernelspec": {
   "display_name": "vcr_logo",
   "language": "python",
   "name": "python3"
  },
  "language_info": {
   "codemirror_mode": {
    "name": "ipython",
    "version": 3
   },
   "file_extension": ".py",
   "mimetype": "text/x-python",
   "name": "python",
   "nbconvert_exporter": "python",
   "pygments_lexer": "ipython3",
   "version": "3.8.10"
  },
  "orig_nbformat": 4,
  "vscode": {
   "interpreter": {
    "hash": "5954bca605a7fce20f0c542cc480cf3c6b24dd7d5082b85e11220c899fc68d02"
   }
  }
 },
 "nbformat": 4,
 "nbformat_minor": 2
}
